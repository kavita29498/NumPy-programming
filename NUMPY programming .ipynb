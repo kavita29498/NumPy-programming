{
 "cells": [
  {
   "cell_type": "code",
   "execution_count": 6,
   "id": "194c4e55",
   "metadata": {},
   "outputs": [
    {
     "name": "stdout",
     "output_type": "stream",
     "text": [
      "array of zero  [[0. 0. 0. 0. 0. 0.]]\n",
      "\n",
      "[[1. 1. 1. 1. 1. 1.]\n",
      " [1. 1. 1. 1. 1. 1.]\n",
      " [1. 1. 1. 1. 1. 1.]\n",
      " [1. 1. 1. 1. 1. 1.]]\n",
      "\n",
      "[4.67296746e-307 1.69121096e-306 3.33772113e-307 2.67019456e-306\n",
      " 1.42413555e-306 1.78019082e-306 1.37959740e-306 6.23057349e-307\n",
      " 1.42419530e-306 1.42419530e-306]\n",
      "\n",
      "[ 1.          1.47368421  1.94736842  2.42105263  2.89473684  3.36842105\n",
      "  3.84210526  4.31578947  4.78947368  5.26315789  5.73684211  6.21052632\n",
      "  6.68421053  7.15789474  7.63157895  8.10526316  8.57894737  9.05263158\n",
      "  9.52631579 10.        ]\n"
     ]
    }
   ],
   "source": [
    "import numpy as np\n",
    "\n",
    "#array of zero\n",
    "print ('array of zero ',np.zeros([1,6]))\n",
    "print()\n",
    "\n",
    "#array of ones \n",
    "print(np.ones([4,6]))\n",
    "print()\n",
    "\n",
    "#array of stdout\n",
    "print(np.empty(10))\n",
    "print()\n",
    "\n",
    "#array of given ranges and number of value.\n",
    "print(np.linspace(1,10,num=20))\n"
   ]
  },
  {
   "cell_type": "code",
   "execution_count": 2,
   "id": "71439034",
   "metadata": {},
   "outputs": [
    {
     "name": "stdout",
     "output_type": "stream",
     "text": [
      "2\n"
     ]
    }
   ],
   "source": [
    "#more than one dimension\n",
    "a=np.array([[1,2],[3,4],[5,6]])\n",
    "print(a.ndim)"
   ]
  },
  {
   "cell_type": "code",
   "execution_count": 3,
   "id": "bc617b44",
   "metadata": {},
   "outputs": [
    {
     "name": "stdout",
     "output_type": "stream",
     "text": [
      "2\n",
      "(3, 2)\n"
     ]
    }
   ],
   "source": [
    "#more than one dimension\n",
    "a=np.array([[1,2],[3,4],[5,6]])\n",
    "print(a.ndim)\n",
    "print(a.shape)"
   ]
  },
  {
   "cell_type": "code",
   "execution_count": 8,
   "id": "20d15b42",
   "metadata": {},
   "outputs": [
    {
     "data": {
      "text/plain": [
       "array([[1, 2],\n",
       "       [3, 4],\n",
       "       [5, 6]])"
      ]
     },
     "execution_count": 8,
     "metadata": {},
     "output_type": "execute_result"
    }
   ],
   "source": [
    "a.view()"
   ]
  },
  {
   "cell_type": "code",
   "execution_count": 10,
   "id": "d61b4a5c",
   "metadata": {},
   "outputs": [
    {
     "data": {
      "text/plain": [
       "6"
      ]
     },
     "execution_count": 10,
     "metadata": {},
     "output_type": "execute_result"
    }
   ],
   "source": [
    "a.size\n"
   ]
  },
  {
   "cell_type": "code",
   "execution_count": 11,
   "id": "0543efcd",
   "metadata": {},
   "outputs": [
    {
     "data": {
      "text/plain": [
       "1"
      ]
     },
     "execution_count": 11,
     "metadata": {},
     "output_type": "execute_result"
    }
   ],
   "source": [
    "a.min()"
   ]
  },
  {
   "cell_type": "code",
   "execution_count": 12,
   "id": "c4f0570d",
   "metadata": {},
   "outputs": [
    {
     "data": {
      "text/plain": [
       "6"
      ]
     },
     "execution_count": 12,
     "metadata": {},
     "output_type": "execute_result"
    }
   ],
   "source": [
    "a.max()"
   ]
  },
  {
   "cell_type": "code",
   "execution_count": 14,
   "id": "c1f39070",
   "metadata": {},
   "outputs": [
    {
     "name": "stdout",
     "output_type": "stream",
     "text": [
      "[[1 2 5 7 8 8 9]]\n"
     ]
    }
   ],
   "source": [
    "arr=np.array([[1,2,5,7,8,8,9]])\n",
    "print(arr)"
   ]
  },
  {
   "cell_type": "code",
   "execution_count": 15,
   "id": "d37aa662",
   "metadata": {},
   "outputs": [
    {
     "data": {
      "text/plain": [
       "5.714285714285714"
      ]
     },
     "execution_count": 15,
     "metadata": {},
     "output_type": "execute_result"
    }
   ],
   "source": [
    "arr.mean()"
   ]
  },
  {
   "cell_type": "code",
   "execution_count": 16,
   "id": "11303889",
   "metadata": {},
   "outputs": [
    {
     "data": {
      "text/plain": [
       "8.489795918367346"
      ]
     },
     "execution_count": 16,
     "metadata": {},
     "output_type": "execute_result"
    }
   ],
   "source": [
    "arr.var()"
   ]
  },
  {
   "cell_type": "code",
   "execution_count": 17,
   "id": "8dfba0df",
   "metadata": {},
   "outputs": [
    {
     "data": {
      "text/plain": [
       "array([    1,     2,    10,    70,   560,  4480, 40320])"
      ]
     },
     "execution_count": 17,
     "metadata": {},
     "output_type": "execute_result"
    }
   ],
   "source": [
    "arr.cumprod()"
   ]
  },
  {
   "cell_type": "code",
   "execution_count": 18,
   "id": "af97849a",
   "metadata": {},
   "outputs": [
    {
     "data": {
      "text/plain": [
       "array([ 1,  3,  8, 15, 23, 31, 40])"
      ]
     },
     "execution_count": 18,
     "metadata": {},
     "output_type": "execute_result"
    }
   ],
   "source": [
    "arr.cumsum()"
   ]
  },
  {
   "cell_type": "code",
   "execution_count": 19,
   "id": "2fbed8eb",
   "metadata": {},
   "outputs": [
    {
     "data": {
      "text/plain": [
       "<memory at 0x000001E8DE9D5560>"
      ]
     },
     "execution_count": 19,
     "metadata": {},
     "output_type": "execute_result"
    }
   ],
   "source": [
    "arr.data"
   ]
  },
  {
   "cell_type": "code",
   "execution_count": 9,
   "id": "41582154",
   "metadata": {},
   "outputs": [
    {
     "name": "stdout",
     "output_type": "stream",
     "text": [
      "range(10, 20)\n"
     ]
    }
   ],
   "source": [
    "print(range(10,20))"
   ]
  },
  {
   "cell_type": "code",
   "execution_count": 10,
   "id": "0b7e2462",
   "metadata": {},
   "outputs": [
    {
     "name": "stdout",
     "output_type": "stream",
     "text": [
      "10\n",
      "11\n",
      "12\n",
      "13\n",
      "14\n",
      "15\n",
      "16\n",
      "17\n",
      "18\n",
      "19\n"
     ]
    }
   ],
   "source": [
    "for i in range(10,20):\n",
    "    print(i)"
   ]
  },
  {
   "cell_type": "code",
   "execution_count": 20,
   "id": "4abfb84e",
   "metadata": {},
   "outputs": [
    {
     "data": {
      "text/plain": [
       "array([10, 11, 12, 13, 14, 15, 16, 17, 18, 19])"
      ]
     },
     "execution_count": 20,
     "metadata": {},
     "output_type": "execute_result"
    }
   ],
   "source": [
    "np.arange(10,20)"
   ]
  },
  {
   "cell_type": "code",
   "execution_count": 21,
   "id": "bc8348d7",
   "metadata": {},
   "outputs": [
    {
     "data": {
      "text/plain": [
       "4"
      ]
     },
     "execution_count": 21,
     "metadata": {},
     "output_type": "execute_result"
    }
   ],
   "source": [
    "b=np.array([[[[1,2,3,4],[5,6,7,8],[9,10,11,12]]]])\n",
    "b.ndim"
   ]
  },
  {
   "cell_type": "code",
   "execution_count": 22,
   "id": "d3f1dab4",
   "metadata": {},
   "outputs": [
    {
     "data": {
      "text/plain": [
       "dtype('int32')"
      ]
     },
     "execution_count": 22,
     "metadata": {},
     "output_type": "execute_result"
    }
   ],
   "source": [
    "b.dtype"
   ]
  },
  {
   "cell_type": "markdown",
   "id": "9e5ad340",
   "metadata": {},
   "source": [
    "# dtype"
   ]
  },
  {
   "cell_type": "code",
   "execution_count": 1,
   "id": "43b39579",
   "metadata": {},
   "outputs": [
    {
     "data": {
      "text/plain": [
       "array([[['1', '2', '3', '4', '5']]], dtype='<U1')"
      ]
     },
     "execution_count": 1,
     "metadata": {},
     "output_type": "execute_result"
    }
   ],
   "source": [
    "#minimum dimension \n",
    "\n",
    "import numpy as np \n",
    "\n",
    "a=np.array([1,2,3,4,5], ndmin=3,dtype=str)\n",
    "a"
   ]
  },
  {
   "cell_type": "code",
   "execution_count": 12,
   "id": "935b448b",
   "metadata": {},
   "outputs": [
    {
     "data": {
      "text/plain": [
       "array([[[1, 2, 3, 4, 5]]])"
      ]
     },
     "execution_count": 12,
     "metadata": {},
     "output_type": "execute_result"
    }
   ],
   "source": [
    "import numpy as np \n",
    "\n",
    "a=np.array([1,2,3,4,5], ndmin=3,dtype=int)\n",
    "a"
   ]
  },
  {
   "cell_type": "code",
   "execution_count": 13,
   "id": "c3664d00",
   "metadata": {},
   "outputs": [
    {
     "data": {
      "text/plain": [
       "array([[[1., 2., 3., 4., 5.]]])"
      ]
     },
     "execution_count": 13,
     "metadata": {},
     "output_type": "execute_result"
    }
   ],
   "source": [
    "import numpy as np \n",
    "\n",
    "a=np.array([1,2,3,4,5], ndmin=3,dtype=float)# str,stroing ,object different way to write string \n",
    "a"
   ]
  },
  {
   "cell_type": "code",
   "execution_count": 14,
   "id": "6cdb5ce7",
   "metadata": {},
   "outputs": [
    {
     "data": {
      "text/plain": [
       "array([[[1.+0.j, 2.+0.j, 3.+0.j, 4.+0.j, 5.+0.j]]])"
      ]
     },
     "execution_count": 14,
     "metadata": {},
     "output_type": "execute_result"
    }
   ],
   "source": [
    "#dtype parameter\n",
    "\n",
    "import numpy as np \n",
    "\n",
    "a=np.array([1,2,3,4,5], ndmin=3,dtype=complex)\n",
    "a"
   ]
  },
  {
   "cell_type": "code",
   "execution_count": 19,
   "id": "120dec39",
   "metadata": {},
   "outputs": [
    {
     "name": "stdout",
     "output_type": "stream",
     "text": [
      "int32\n"
     ]
    }
   ],
   "source": [
    "#int2,int16,int32,int64 can be repalaced by equivalent string 'i1',i2,i4'\n",
    "\n",
    "dt1= np.dtype('i4')\n",
    "print(dt1)"
   ]
  },
  {
   "cell_type": "code",
   "execution_count": 16,
   "id": "f006567c",
   "metadata": {},
   "outputs": [
    {
     "name": "stdout",
     "output_type": "stream",
     "text": [
      "int16\n"
     ]
    }
   ],
   "source": [
    "\n",
    "dt1= np.dtype('i2')\n",
    "print(dt1)"
   ]
  },
  {
   "cell_type": "code",
   "execution_count": 17,
   "id": "3bb0ec57",
   "metadata": {},
   "outputs": [
    {
     "name": "stdout",
     "output_type": "stream",
     "text": [
      "int8\n"
     ]
    }
   ],
   "source": [
    "#we cannot fetch int 64\n",
    "dt1= np.dtype('i1')\n",
    "print(dt1)"
   ]
  },
  {
   "cell_type": "code",
   "execution_count": 25,
   "id": "1f06d16f",
   "metadata": {},
   "outputs": [
    {
     "name": "stdout",
     "output_type": "stream",
     "text": [
      "[('age', 'i1')]\n"
     ]
    }
   ],
   "source": [
    "#first create structure data type \n",
    "dt =np.dtype([('age',np.int8)])\n",
    "print(dt)"
   ]
  },
  {
   "cell_type": "code",
   "execution_count": 24,
   "id": "1fe471fb",
   "metadata": {},
   "outputs": [
    {
     "name": "stdout",
     "output_type": "stream",
     "text": [
      "[('age', 'i1')]\n"
     ]
    }
   ],
   "source": [
    "#now apply it to ndarray object \n",
    "dt =np.dtype([('age',np.int8)])\n",
    "a=np.array([(10,),(20,),(30,)], dtype =dt)\n",
    "print(dt)"
   ]
  },
  {
   "cell_type": "code",
   "execution_count": 26,
   "id": "9f7acf9f",
   "metadata": {},
   "outputs": [
    {
     "name": "stdout",
     "output_type": "stream",
     "text": [
      "[10 20 30]\n"
     ]
    }
   ],
   "source": [
    "#file name can bre used to access content of age column\n",
    "dt =np.dtype([('age',np.int8)])\n",
    "a=np.array([(10,),(20,),(30,)], dtype =dt)\n",
    "print(a['age'])\n"
   ]
  },
  {
   "cell_type": "code",
   "execution_count": 34,
   "id": "27f5b364",
   "metadata": {},
   "outputs": [
    {
     "name": "stdout",
     "output_type": "stream",
     "text": [
      "[('name', 'S20'), ('age', 'i1'), ('marks', '<f4')]\n"
     ]
    }
   ],
   "source": [
    "student =np.dtype([('name','S20'),('age','i1'),('marks','f4')])\n",
    "print(student)"
   ]
  },
  {
   "cell_type": "code",
   "execution_count": 38,
   "id": "5d4f04af",
   "metadata": {},
   "outputs": [
    {
     "name": "stdout",
     "output_type": "stream",
     "text": [
      "(3,)\n"
     ]
    }
   ],
   "source": [
    "student =np.dtype([('name','S20'),('age','i1'),('marks','f4')])\n",
    "st=np.array([('abc',21,40),('klm',18,50),('abc',21,40)], dtype=student)\n",
    "print(st.shape)"
   ]
  },
  {
   "cell_type": "markdown",
   "id": "90435d8f",
   "metadata": {},
   "source": [
    "# Shape and reshape "
   ]
  },
  {
   "cell_type": "code",
   "execution_count": 24,
   "id": "7ae17d50",
   "metadata": {},
   "outputs": [
    {
     "name": "stdout",
     "output_type": "stream",
     "text": [
      "(2, 3)\n",
      "[[1 2 3]\n",
      " [4 5 6]]\n"
     ]
    }
   ],
   "source": [
    "a=np.array([[1,2,3],[4,5,6]])\n",
    "print(a.shape)\n",
    "print(a)"
   ]
  },
  {
   "cell_type": "code",
   "execution_count": 25,
   "id": "56e72fbc",
   "metadata": {},
   "outputs": [
    {
     "name": "stdout",
     "output_type": "stream",
     "text": [
      "[[1]\n",
      " [2]\n",
      " [3]\n",
      " [4]\n",
      " [5]\n",
      " [6]]\n"
     ]
    }
   ],
   "source": [
    "a.shape =(6,1)\n",
    "print(a)"
   ]
  },
  {
   "cell_type": "code",
   "execution_count": 40,
   "id": "c42f7b8d",
   "metadata": {},
   "outputs": [
    {
     "name": "stdout",
     "output_type": "stream",
     "text": [
      "[[1 2]\n",
      " [3 4]\n",
      " [5 6]]\n"
     ]
    }
   ],
   "source": [
    "a=np.array([[1,2,3],[4,5,6]])\n",
    "b=a.reshape(3,2)\n",
    "print(b)"
   ]
  },
  {
   "cell_type": "code",
   "execution_count": 27,
   "id": "685e4ce2",
   "metadata": {},
   "outputs": [
    {
     "name": "stdout",
     "output_type": "stream",
     "text": [
      "[ 0  1  2  3  4  5  6  7  8  9 10 11 12 13 14 15 16 17 18 19 20 21 22 23]\n",
      "[[[[ 0  1  2]\n",
      "   [ 3  4  5]\n",
      "   [ 6  7  8]\n",
      "   [ 9 10 11]\n",
      "   [12 13 14]\n",
      "   [15 16 17]\n",
      "   [18 19 20]\n",
      "   [21 22 23]]]]\n"
     ]
    },
    {
     "data": {
      "text/plain": [
       "4"
      ]
     },
     "execution_count": 27,
     "metadata": {},
     "output_type": "execute_result"
    }
   ],
   "source": [
    "#this is one dimesnsional array \n",
    "import numpy as np\n",
    "\n",
    "a=np.arange(24)\n",
    "print(a)\n",
    "\n",
    "#now reshape it \n",
    "b=a.reshape(1,1,8,3)\n",
    "print(b)\n",
    "b.ndim"
   ]
  },
  {
   "cell_type": "code",
   "execution_count": 28,
   "id": "a254b1fc",
   "metadata": {},
   "outputs": [
    {
     "name": "stdout",
     "output_type": "stream",
     "text": [
      "[ 0  1  2  3  4  5  6  7  8  9 10 11 12 13 14 15 16 17 18 19 20 21 22 23]\n",
      "[[[[ 0  1  2  3]\n",
      "   [ 4  5  6  7]\n",
      "   [ 8  9 10 11]\n",
      "   [12 13 14 15]\n",
      "   [16 17 18 19]\n",
      "   [20 21 22 23]]]]\n"
     ]
    },
    {
     "data": {
      "text/plain": [
       "4"
      ]
     },
     "execution_count": 28,
     "metadata": {},
     "output_type": "execute_result"
    }
   ],
   "source": [
    "#this is one dimesnsional array \n",
    "import numpy as np\n",
    "\n",
    "a=np.arange(24)\n",
    "print(a)\n",
    "\n",
    "#now reshape it \n",
    "#another way to conver 24\n",
    "b=a.reshape(1,1,6,4)\n",
    "print(b)\n",
    "b.ndim"
   ]
  },
  {
   "cell_type": "code",
   "execution_count": 29,
   "id": "0dd92644",
   "metadata": {},
   "outputs": [
    {
     "name": "stdout",
     "output_type": "stream",
     "text": [
      "[ 0  1  2  3  4  5  6  7  8  9 10 11 12 13 14 15 16 17 18 19 20 21 22 23]\n",
      "[[[[ 0  1]\n",
      "   [ 2  3]\n",
      "   [ 4  5]]\n",
      "\n",
      "  [[ 6  7]\n",
      "   [ 8  9]\n",
      "   [10 11]]]\n",
      "\n",
      "\n",
      " [[[12 13]\n",
      "   [14 15]\n",
      "   [16 17]]\n",
      "\n",
      "  [[18 19]\n",
      "   [20 21]\n",
      "   [22 23]]]]\n"
     ]
    },
    {
     "data": {
      "text/plain": [
       "4"
      ]
     },
     "execution_count": 29,
     "metadata": {},
     "output_type": "execute_result"
    }
   ],
   "source": [
    "#this is one dimesnsional array \n",
    "import numpy as np\n",
    "\n",
    "a=np.arange(24)\n",
    "print(a)\n",
    "\n",
    "#now reshape it \n",
    "#another way to conver 24\n",
    "b=a.reshape(2,2,3,2)\n",
    "print(b)\n",
    "b.ndim"
   ]
  },
  {
   "cell_type": "code",
   "execution_count": 30,
   "id": "3584b0e4",
   "metadata": {},
   "outputs": [
    {
     "name": "stdout",
     "output_type": "stream",
     "text": [
      "[ 0  1  2  3  4  5  6  7  8  9 10 11 12 13 14 15 16 17 18 19 20 21 22 23]\n",
      "[[[[ 0  1]\n",
      "   [ 2  3]]\n",
      "\n",
      "  [[ 4  5]\n",
      "   [ 6  7]]]\n",
      "\n",
      "\n",
      " [[[ 8  9]\n",
      "   [10 11]]\n",
      "\n",
      "  [[12 13]\n",
      "   [14 15]]]\n",
      "\n",
      "\n",
      " [[[16 17]\n",
      "   [18 19]]\n",
      "\n",
      "  [[20 21]\n",
      "   [22 23]]]]\n"
     ]
    },
    {
     "data": {
      "text/plain": [
       "4"
      ]
     },
     "execution_count": 30,
     "metadata": {},
     "output_type": "execute_result"
    }
   ],
   "source": [
    "#this is one dimesnsional array \n",
    "import numpy as np\n",
    "\n",
    "a=np.arange(24)\n",
    "print(a)\n",
    "\n",
    "#now reshape it \n",
    "#another way to conver 24\n",
    "b=a.reshape(3,2,2,2)\n",
    "print(b)\n",
    "b.ndim"
   ]
  },
  {
   "cell_type": "code",
   "execution_count": 31,
   "id": "badd9ee0",
   "metadata": {},
   "outputs": [
    {
     "name": "stdout",
     "output_type": "stream",
     "text": [
      "[ 0  1  2  3  4  5  6  7  8  9 10 11 12 13 14 15 16 17 18 19 20 21 22 23]\n",
      "[[[[ 0  1]\n",
      "   [ 2  3]\n",
      "   [ 4  5]\n",
      "   [ 6  7]\n",
      "   [ 8  9]\n",
      "   [10 11]]\n",
      "\n",
      "  [[12 13]\n",
      "   [14 15]\n",
      "   [16 17]\n",
      "   [18 19]\n",
      "   [20 21]\n",
      "   [22 23]]]]\n"
     ]
    },
    {
     "data": {
      "text/plain": [
       "4"
      ]
     },
     "execution_count": 31,
     "metadata": {},
     "output_type": "execute_result"
    }
   ],
   "source": [
    "#this is one dimesnsional array \n",
    "import numpy as np\n",
    "\n",
    "a=np.arange(24)\n",
    "print(a)\n",
    "\n",
    "#now reshape it \n",
    "#another way to conver 24\n",
    "b=a.reshape(1,2,6,2)\n",
    "print(b)\n",
    "b.ndim"
   ]
  },
  {
   "cell_type": "code",
   "execution_count": 32,
   "id": "2a29ce9c",
   "metadata": {},
   "outputs": [
    {
     "name": "stdout",
     "output_type": "stream",
     "text": [
      "[ 0  1  2  3  4  5  6  7  8  9 10 11 12 13 14 15 16 17 18 19 20 21 22 23]\n",
      "[[[[ 0  1  2  3]\n",
      "   [ 4  5  6  7]]]\n",
      "\n",
      "\n",
      " [[[ 8  9 10 11]\n",
      "   [12 13 14 15]]]\n",
      "\n",
      "\n",
      " [[[16 17 18 19]\n",
      "   [20 21 22 23]]]]\n"
     ]
    },
    {
     "data": {
      "text/plain": [
       "4"
      ]
     },
     "execution_count": 32,
     "metadata": {},
     "output_type": "execute_result"
    }
   ],
   "source": [
    "#this is one dimesnsional array \n",
    "import numpy as np\n",
    "\n",
    "a=np.arange(24)\n",
    "print(a)\n",
    "\n",
    "#now reshape it \n",
    "#another way to conver 24\n",
    "b=a.reshape(3,1,2,4)\n",
    "print(b)\n",
    "b.ndim"
   ]
  },
  {
   "cell_type": "code",
   "execution_count": 34,
   "id": "9d29f99a",
   "metadata": {},
   "outputs": [
    {
     "name": "stdout",
     "output_type": "stream",
     "text": [
      "8\n"
     ]
    }
   ],
   "source": [
    "#dtype of array \n",
    "import numpy as np\n",
    "\n",
    "x=np.array([1,2,3,4,5,6,9,10,10,12,15,14], dtype=np.float64)\n",
    "print(x.itemsize)"
   ]
  },
  {
   "cell_type": "markdown",
   "id": "38231f8b",
   "metadata": {},
   "source": [
    "# np.sort(),np.concatenate()"
   ]
  },
  {
   "cell_type": "code",
   "execution_count": 35,
   "id": "d139640c",
   "metadata": {},
   "outputs": [
    {
     "data": {
      "text/plain": [
       "array([1, 2, 3, 4, 5, 6, 7, 8])"
      ]
     },
     "execution_count": 35,
     "metadata": {},
     "output_type": "execute_result"
    }
   ],
   "source": [
    "arr = np.array([1,2,3,4,5,6,7,8])\n",
    "np.sort(arr)"
   ]
  },
  {
   "cell_type": "code",
   "execution_count": 36,
   "id": "c5f8314e",
   "metadata": {},
   "outputs": [
    {
     "data": {
      "text/plain": [
       "array([1, 2, 3, 4, 5, 6, 7, 8])"
      ]
     },
     "execution_count": 36,
     "metadata": {},
     "output_type": "execute_result"
    }
   ],
   "source": [
    "a= np.array([1,2,3,4,])\n",
    "b= np.array([5,6,7,8])\n",
    "np.concatenate((a,b))"
   ]
  },
  {
   "cell_type": "code",
   "execution_count": 37,
   "id": "d1cab2bc",
   "metadata": {},
   "outputs": [
    {
     "data": {
      "text/plain": [
       "array([[1, 2],\n",
       "       [3, 4],\n",
       "       [5, 6],\n",
       "       [7, 8]])"
      ]
     },
     "execution_count": 37,
     "metadata": {},
     "output_type": "execute_result"
    }
   ],
   "source": [
    "x= np.array([[1,2],[3,4]])\n",
    "y= np.array([[5,6],[7,8]])\n",
    "np.concatenate((x,y),axis=0)#axis =0 is row wise concatenation "
   ]
  },
  {
   "cell_type": "code",
   "execution_count": 38,
   "id": "06de2699",
   "metadata": {},
   "outputs": [
    {
     "data": {
      "text/plain": [
       "array([[1, 2, 5, 6],\n",
       "       [3, 4, 7, 8]])"
      ]
     },
     "execution_count": 38,
     "metadata": {},
     "output_type": "execute_result"
    }
   ],
   "source": [
    "x= np.array([[1,2],[3,4]])\n",
    "y= np.array([[5,6],[7,8]])\n",
    "np.concatenate((x,y),axis=1)#axis =1 iscolum wise concatenation"
   ]
  },
  {
   "cell_type": "code",
   "execution_count": 39,
   "id": "b6f017e4",
   "metadata": {},
   "outputs": [],
   "source": [
    "#for concat,data  and dimension should be equal then only we can do the concatenation "
   ]
  },
  {
   "cell_type": "markdown",
   "id": "eedc8583",
   "metadata": {},
   "source": [
    "# converting to 1d to 2d array \n",
    "np.newaxis,np.expand_dims"
   ]
  },
  {
   "cell_type": "code",
   "execution_count": 42,
   "id": "27a12ab4",
   "metadata": {},
   "outputs": [
    {
     "data": {
      "text/plain": [
       "array([ 1,  2,  3,  4,  5,  6,  7,  8,  9, 10])"
      ]
     },
     "execution_count": 42,
     "metadata": {},
     "output_type": "execute_result"
    }
   ],
   "source": [
    "a= np.array([1,2,3,4,5,6,7,8,9,10])\n",
    "a"
   ]
  },
  {
   "cell_type": "code",
   "execution_count": 43,
   "id": "07d7f0d6",
   "metadata": {},
   "outputs": [
    {
     "data": {
      "text/plain": [
       "1"
      ]
     },
     "execution_count": 43,
     "metadata": {},
     "output_type": "execute_result"
    }
   ],
   "source": [
    "a.ndim"
   ]
  },
  {
   "cell_type": "code",
   "execution_count": 50,
   "id": "4c6c7016",
   "metadata": {},
   "outputs": [
    {
     "data": {
      "text/plain": [
       "array([[1, 2, 3, 4, 5]])"
      ]
     },
     "execution_count": 50,
     "metadata": {},
     "output_type": "execute_result"
    }
   ],
   "source": [
    "a2=a[np.newaxis,0:5]\n",
    "a2"
   ]
  },
  {
   "cell_type": "code",
   "execution_count": 51,
   "id": "cddac89d",
   "metadata": {},
   "outputs": [],
   "source": [
    "row_vector= a[np.newaxis,5:]"
   ]
  },
  {
   "cell_type": "code",
   "execution_count": 52,
   "id": "d4e3acfa",
   "metadata": {},
   "outputs": [
    {
     "data": {
      "text/plain": [
       "array([[ 6,  7,  8,  9, 10]])"
      ]
     },
     "execution_count": 52,
     "metadata": {},
     "output_type": "execute_result"
    }
   ],
   "source": [
    "row_vector"
   ]
  },
  {
   "cell_type": "code",
   "execution_count": 53,
   "id": "049d6173",
   "metadata": {},
   "outputs": [
    {
     "data": {
      "text/plain": [
       "array([[ 6],\n",
       "       [ 7],\n",
       "       [ 8],\n",
       "       [ 9],\n",
       "       [10]])"
      ]
     },
     "execution_count": 53,
     "metadata": {},
     "output_type": "execute_result"
    }
   ],
   "source": [
    "col_vector =a[5:, np.newaxis]\n",
    "col_vector"
   ]
  },
  {
   "cell_type": "code",
   "execution_count": 54,
   "id": "0fedece6",
   "metadata": {},
   "outputs": [
    {
     "data": {
      "text/plain": [
       "array([1, 2, 3, 6, 8, 9])"
      ]
     },
     "execution_count": 54,
     "metadata": {},
     "output_type": "execute_result"
    }
   ],
   "source": [
    "a=np.array([1,2,3,6,8,9])\n",
    "a"
   ]
  },
  {
   "cell_type": "code",
   "execution_count": 55,
   "id": "1d3b6fab",
   "metadata": {},
   "outputs": [
    {
     "data": {
      "text/plain": [
       "(6,)"
      ]
     },
     "execution_count": 55,
     "metadata": {},
     "output_type": "execute_result"
    }
   ],
   "source": [
    "a.shape"
   ]
  },
  {
   "cell_type": "code",
   "execution_count": 58,
   "id": "c4b543ee",
   "metadata": {},
   "outputs": [
    {
     "name": "stdout",
     "output_type": "stream",
     "text": [
      "(1, 6)\n"
     ]
    }
   ],
   "source": [
    "b=np.expand_dims(a,axis=0)\n",
    "print(b.shape)"
   ]
  },
  {
   "cell_type": "code",
   "execution_count": 59,
   "id": "45276b0a",
   "metadata": {},
   "outputs": [
    {
     "name": "stdout",
     "output_type": "stream",
     "text": [
      "(1, 6)\n",
      "2\n"
     ]
    }
   ],
   "source": [
    "b=np.expand_dims(a,axis=0)\n",
    "print(b.shape)\n",
    "print(b.ndim)"
   ]
  },
  {
   "cell_type": "code",
   "execution_count": 60,
   "id": "3c311e4c",
   "metadata": {},
   "outputs": [
    {
     "name": "stdout",
     "output_type": "stream",
     "text": [
      "[[1 2 3 6 8 9]]\n"
     ]
    }
   ],
   "source": [
    "print(b)"
   ]
  },
  {
   "cell_type": "code",
   "execution_count": 61,
   "id": "83066d9e",
   "metadata": {},
   "outputs": [
    {
     "name": "stdout",
     "output_type": "stream",
     "text": [
      "(6, 1)\n",
      "2\n",
      "[[1]\n",
      " [2]\n",
      " [3]\n",
      " [6]\n",
      " [8]\n",
      " [9]]\n"
     ]
    }
   ],
   "source": [
    "b=np.expand_dims(a,axis=1)\n",
    "print(b.shape)\n",
    "print(b.ndim)\n",
    "print(b)"
   ]
  },
  {
   "cell_type": "markdown",
   "id": "c3fe1121",
   "metadata": {},
   "source": [
    "# Indexing and slicing "
   ]
  },
  {
   "cell_type": "code",
   "execution_count": 62,
   "id": "4f9f9133",
   "metadata": {},
   "outputs": [
    {
     "name": "stdout",
     "output_type": "stream",
     "text": [
      "2\n",
      "[1]\n",
      "[2 3]\n",
      "[2 3]\n"
     ]
    }
   ],
   "source": [
    "data =np.array([1,2,3])\n",
    "print(data[1])\n",
    "print(data[0:2:2])\n",
    "print(data[1:])\n",
    "print(data[-2:])"
   ]
  },
  {
   "cell_type": "code",
   "execution_count": 63,
   "id": "cff54c33",
   "metadata": {},
   "outputs": [
    {
     "data": {
      "text/plain": [
       "array([[ 1,  2,  3,  4],\n",
       "       [ 5,  6,  7,  8],\n",
       "       [ 9, 10, 11, 12]])"
      ]
     },
     "execution_count": 63,
     "metadata": {},
     "output_type": "execute_result"
    }
   ],
   "source": [
    "a=np.array([[1,2,3,4],[5,6,7,8],[9,10,11,12]])\n",
    "a"
   ]
  },
  {
   "cell_type": "code",
   "execution_count": 64,
   "id": "8764e818",
   "metadata": {},
   "outputs": [
    {
     "name": "stdout",
     "output_type": "stream",
     "text": [
      "[ 7  8  9 10 11 12]\n"
     ]
    }
   ],
   "source": [
    "print(a[a>=7])"
   ]
  },
  {
   "cell_type": "code",
   "execution_count": 65,
   "id": "42cf49da",
   "metadata": {},
   "outputs": [],
   "source": [
    "divisible_by2= a[a%2==0]"
   ]
  },
  {
   "cell_type": "code",
   "execution_count": 66,
   "id": "9a6e2494",
   "metadata": {},
   "outputs": [
    {
     "name": "stdout",
     "output_type": "stream",
     "text": [
      "[ 2  4  6  8 10 12]\n"
     ]
    }
   ],
   "source": [
    "print(divisible_by2)"
   ]
  },
  {
   "cell_type": "code",
   "execution_count": 67,
   "id": "f553b8bc",
   "metadata": {},
   "outputs": [],
   "source": [
    "divisible_by2= a[a%2!=0]"
   ]
  },
  {
   "cell_type": "code",
   "execution_count": 68,
   "id": "498ae709",
   "metadata": {},
   "outputs": [
    {
     "name": "stdout",
     "output_type": "stream",
     "text": [
      "[ 1  3  5  7  9 11]\n"
     ]
    }
   ],
   "source": [
    "print(divisible_by2)"
   ]
  },
  {
   "cell_type": "code",
   "execution_count": 70,
   "id": "82cb5939",
   "metadata": {},
   "outputs": [
    {
     "name": "stdout",
     "output_type": "stream",
     "text": [
      "[ 6  7  8  9 10]\n"
     ]
    }
   ],
   "source": [
    "c= a[(a>5) & (a<11)]\n",
    "print(c)"
   ]
  },
  {
   "cell_type": "code",
   "execution_count": 71,
   "id": "9e97fdf5",
   "metadata": {},
   "outputs": [
    {
     "name": "stdout",
     "output_type": "stream",
     "text": [
      "[ 1  2  3  4  5  6  7  8  9 10 11 12]\n"
     ]
    }
   ],
   "source": [
    "c= a[(a>5) | (a<11)]\n",
    "print(c)"
   ]
  },
  {
   "cell_type": "code",
   "execution_count": 72,
   "id": "5b83e94f",
   "metadata": {},
   "outputs": [
    {
     "name": "stdout",
     "output_type": "stream",
     "text": [
      "[ 5  6  7  8  9 10 11 12]\n"
     ]
    }
   ],
   "source": [
    "c= a[(a>5) | (a==5)]\n",
    "print(c)"
   ]
  },
  {
   "cell_type": "code",
   "execution_count": 73,
   "id": "207a3e8e",
   "metadata": {},
   "outputs": [
    {
     "data": {
      "text/plain": [
       "(array([ 9, 10, 11, 12]), array([1]))"
      ]
     },
     "execution_count": 73,
     "metadata": {},
     "output_type": "execute_result"
    }
   ],
   "source": [
    "a[2],b[0]"
   ]
  },
  {
   "cell_type": "markdown",
   "id": "a45e4ca5",
   "metadata": {},
   "source": [
    "# create an array from existing data\n",
    "slicing and indexing ,np.vstack(),np.hstack(),np.hsplit()"
   ]
  },
  {
   "cell_type": "code",
   "execution_count": null,
   "id": "6fa567c4",
   "metadata": {},
   "outputs": [],
   "source": []
  },
  {
   "cell_type": "code",
   "execution_count": null,
   "id": "deda2e1c",
   "metadata": {},
   "outputs": [],
   "source": []
  },
  {
   "cell_type": "code",
   "execution_count": null,
   "id": "71d30a1e",
   "metadata": {},
   "outputs": [],
   "source": []
  },
  {
   "cell_type": "code",
   "execution_count": null,
   "id": "9e27abaf",
   "metadata": {},
   "outputs": [],
   "source": []
  },
  {
   "cell_type": "code",
   "execution_count": null,
   "id": "7883c2ca",
   "metadata": {},
   "outputs": [],
   "source": []
  },
  {
   "cell_type": "code",
   "execution_count": null,
   "id": "e26770c0",
   "metadata": {},
   "outputs": [],
   "source": []
  },
  {
   "cell_type": "markdown",
   "id": "d6047b8a",
   "metadata": {},
   "source": [
    "# Linear algebra"
   ]
  },
  {
   "cell_type": "code",
   "execution_count": 5,
   "id": "f535cc14",
   "metadata": {},
   "outputs": [
    {
     "name": "stdout",
     "output_type": "stream",
     "text": [
      "2x2 matrix:\n",
      " [[1 3]\n",
      " [2 4]]\n"
     ]
    }
   ],
   "source": [
    "import numpy as np \n",
    "#create a2x2 matrix\n",
    "\n",
    "matrix=np.array([[1,3],\n",
    "                [2,4]])\n",
    "\n",
    "print(\"2x2 matrix:\\n\",matrix)\n"
   ]
  },
  {
   "cell_type": "code",
   "execution_count": 6,
   "id": "69f86c92",
   "metadata": {},
   "outputs": [
    {
     "name": "stdout",
     "output_type": "stream",
     "text": [
      "[[[1 2 6]\n",
      "  [2 3 4]\n",
      "  [6 7 8]]]\n"
     ]
    }
   ],
   "source": [
    "#create 3x3 matrix\n",
    "\n",
    "matrix1=np.array([[[1,2,6],\n",
    "                  [2,3,4],\n",
    "                  [6,7,8]]])\n",
    "print(matrix1)"
   ]
  },
  {
   "cell_type": "code",
   "execution_count": 7,
   "id": "e3b08846",
   "metadata": {},
   "outputs": [
    {
     "data": {
      "text/plain": [
       "numpy.ndarray"
      ]
     },
     "execution_count": 7,
     "metadata": {},
     "output_type": "execute_result"
    }
   ],
   "source": [
    "type(matrix1)"
   ]
  },
  {
   "cell_type": "code",
   "execution_count": 25,
   "id": "d6d478af",
   "metadata": {},
   "outputs": [
    {
     "name": "stdout",
     "output_type": "stream",
     "text": [
      "[[1 2 3]\n",
      " [4 6 2]\n",
      " [2 6 8]]\n"
     ]
    }
   ],
   "source": [
    "#diagonal matrix\n",
    "from numpy import array\n",
    "import numpy as diag\n",
    "M =array([[1,2,3],[4,6,2],[2,6,8]])\n",
    "print(M)"
   ]
  },
  {
   "cell_type": "code",
   "execution_count": 15,
   "id": "eeddd801",
   "metadata": {},
   "outputs": [
    {
     "name": "stdout",
     "output_type": "stream",
     "text": [
      "[[1. 0. 0. 0.]\n",
      " [0. 1. 0. 0.]\n",
      " [0. 0. 1. 0.]\n",
      " [0. 0. 0. 1.]]\n"
     ]
    }
   ],
   "source": [
    "#identity matrix\n",
    "from numpy import identity\n",
    "I=identity(4)\n",
    "print(I)"
   ]
  },
  {
   "cell_type": "code",
   "execution_count": 19,
   "id": "94367b90",
   "metadata": {},
   "outputs": [
    {
     "name": "stdout",
     "output_type": "stream",
     "text": [
      "multiply of vector:\n",
      " [[ 2 18]\n",
      " [20 56]]\n",
      "matx1 X matx2:\n",
      " [[14 30]\n",
      " [38 86]]\n"
     ]
    }
   ],
   "source": [
    "#cretate two matrix\n",
    "matx1=np.array([[1,3],[5,7]])\n",
    "matx2=np.array([[2,6],[4,8]])\n",
    "\n",
    "#calculate the dot product of the two matrix\n",
    "\n",
    "result=np.multiply(matx1,matx2)\n",
    "print('multiply of vector:\\n',result)\n",
    "\n",
    "result=np.dot(matx1,matx2)\n",
    "print('matx1 X matx2:\\n',result)"
   ]
  },
  {
   "cell_type": "markdown",
   "id": "13e4b575",
   "metadata": {},
   "source": [
    "# matrix -vector multiplication"
   ]
  },
  {
   "cell_type": "code",
   "execution_count": 43,
   "id": "80dec37f",
   "metadata": {},
   "outputs": [
    {
     "name": "stdout",
     "output_type": "stream",
     "text": [
      "[[1 2]\n",
      " [3 4]\n",
      " [5 6]]\n",
      "[0.5 0.5]\n",
      "[1.5 3.5 5.5]\n",
      "[1.5 3.5 5.5]\n"
     ]
    }
   ],
   "source": [
    "#matrix -vector multiplication\n",
    "from numpy import array\n",
    "a = array([[1,2],[3,4],[5,6]])\n",
    "print(a)\n",
    "b = array([0.5,0.5])\n",
    "print(b)\n",
    "c=a.dot(b)\n",
    "print(c)\n",
    "d=a@b\n",
    "print(d)"
   ]
  },
  {
   "cell_type": "code",
   "execution_count": 41,
   "id": "20b6a26d",
   "metadata": {},
   "outputs": [
    {
     "name": "stdout",
     "output_type": "stream",
     "text": [
      "[[14 30]\n",
      " [38 86]]\n"
     ]
    }
   ],
   "source": [
    "import numpy as np\n",
    "\n",
    "array1= np.array([[1,3],\n",
    "                  [5,7]])\n",
    "array2 =np.array([[2,4],\n",
    "                [6,8]])\n",
    "result =np.inner(array1,array2)\n",
    "print(result)"
   ]
  },
  {
   "cell_type": "code",
   "execution_count": 39,
   "id": "ebc0336f",
   "metadata": {},
   "outputs": [
    {
     "name": "stdout",
     "output_type": "stream",
     "text": [
      "[-2.    2.25]\n"
     ]
    }
   ],
   "source": [
    "import numpy as np\n",
    "#define the coefficient matrix A\n",
    "a=np.array([[2,4],\n",
    "           [6,8]])\n",
    "#define the constant vectort b\n",
    "b=np.array([5,6])\n",
    "#solve the system of linear equation ax=b\n",
    "x=np.linalg.solve(a,b)\n",
    "print(x)"
   ]
  },
  {
   "cell_type": "markdown",
   "id": "69d9b8da",
   "metadata": {},
   "source": [
    "# transpose of metrix"
   ]
  },
  {
   "cell_type": "code",
   "execution_count": 46,
   "id": "9cc65e26",
   "metadata": {},
   "outputs": [
    {
     "name": "stdout",
     "output_type": "stream",
     "text": [
      "[[1 5]\n",
      " [3 7]]\n",
      "[[1 5]\n",
      " [3 7]]\n"
     ]
    }
   ],
   "source": [
    "#create a matrix\n",
    "mat1=np.array([[1,3],[5,7]])\n",
    "\n",
    "#get transpose of mat1\n",
    "result=np.transpose(mat1)\n",
    "result_1= mat1.T\n",
    "\n",
    "print(result)\n",
    "print(result_1)"
   ]
  },
  {
   "cell_type": "markdown",
   "id": "70c8c738",
   "metadata": {},
   "source": [
    "# inverse of matrix"
   ]
  },
  {
   "cell_type": "code",
   "execution_count": 48,
   "id": "36f6cd86",
   "metadata": {},
   "outputs": [
    {
     "name": "stdout",
     "output_type": "stream",
     "text": [
      "[[-1.11111111 -0.11111111  0.72222222]\n",
      " [ 0.88888889  0.22222222 -0.61111111]\n",
      " [-0.11111111 -0.11111111  0.22222222]]\n"
     ]
    }
   ],
   "source": [
    "#create matrix \n",
    "\n",
    "matrix1= np.array([[1,3,5],\n",
    "                  [7,9,2],\n",
    "                  [4,6,8]])\n",
    "#find inverse of matrix \n",
    "result=np.linalg.inv(matrix1)\n",
    "print(result)"
   ]
  },
  {
   "cell_type": "markdown",
   "id": "aa54b7aa",
   "metadata": {},
   "source": [
    "# trace of matrix "
   ]
  },
  {
   "cell_type": "code",
   "execution_count": 49,
   "id": "7eccf57c",
   "metadata": {},
   "outputs": [
    {
     "name": "stdout",
     "output_type": "stream",
     "text": [
      "[[1 2 3]\n",
      " [4 5 6]\n",
      " [7 8 9]]\n",
      "15\n"
     ]
    }
   ],
   "source": [
    "from numpy import trace\n",
    "a=np.array([[1,2,3],\n",
    "           [4,5,6],\n",
    "           [7,8,9]])\n",
    "print(a)\n",
    "b=trace(a)\n",
    "print(b)"
   ]
  },
  {
   "cell_type": "markdown",
   "id": "b7d13a7f",
   "metadata": {},
   "source": [
    "# determinant of matrix \n"
   ]
  },
  {
   "cell_type": "code",
   "execution_count": 50,
   "id": "7fc291f1",
   "metadata": {},
   "outputs": [
    {
     "name": "stdout",
     "output_type": "stream",
     "text": [
      "[[1 2 3]\n",
      " [4 5 1]\n",
      " [2 3 4]]\n",
      "-4.999999999999999\n"
     ]
    }
   ],
   "source": [
    "a=np.array([[1,2,3],\n",
    "           [4,5,1],\n",
    "           [2,3,4]])\n",
    "print(a)\n",
    "#find determinant of matrix\n",
    "result=np.linalg.det(a)\n",
    "print(result)"
   ]
  },
  {
   "cell_type": "code",
   "execution_count": null,
   "id": "b0386732",
   "metadata": {},
   "outputs": [],
   "source": [
    "#Rank of deternimation"
   ]
  },
  {
   "cell_type": "code",
   "execution_count": 52,
   "id": "fdfabc7e",
   "metadata": {},
   "outputs": [
    {
     "name": "stdout",
     "output_type": "stream",
     "text": [
      "[1 2 3]\n",
      "1\n",
      "[0 0 0 0 0]\n",
      "0\n"
     ]
    }
   ],
   "source": [
    "from numpy.linalg import matrix_rank\n",
    "#rank\n",
    "v1=np.array([1,2,3])\n",
    "print(v1)\n",
    "vr1=matrix_rank(v1)\n",
    "print(vr1)\n",
    "#zero rank\n",
    "v2=np.array([0,0,0,0,0])\n",
    "print(v2)\n",
    "vr2=matrix_rank(v2)\n",
    "print(vr2)"
   ]
  },
  {
   "cell_type": "code",
   "execution_count": 57,
   "id": "ffe45961",
   "metadata": {},
   "outputs": [
    {
     "name": "stdout",
     "output_type": "stream",
     "text": [
      "[[1 9 3]\n",
      " [4 5 1]\n",
      " [8 7 6]]\n",
      "[1 9 3 4 5 1 8 7 6]\n"
     ]
    }
   ],
   "source": [
    "a=np.array([[1,9,3],\n",
    "           [4,5,1],\n",
    "           [8,7,6]])\n",
    "print(a)\n",
    "#flatten opration\n",
    "result=a.flatten()\n",
    "print(result)"
   ]
  },
  {
   "cell_type": "markdown",
   "id": "8b0f202a",
   "metadata": {},
   "source": [
    "# set operation in numpy"
   ]
  },
  {
   "cell_type": "code",
   "execution_count": 53,
   "id": "321e1aed",
   "metadata": {},
   "outputs": [],
   "source": [
    "#union\n",
    "#intersection\n",
    "#setdiffrence"
   ]
  },
  {
   "cell_type": "code",
   "execution_count": 54,
   "id": "7597429a",
   "metadata": {},
   "outputs": [
    {
     "name": "stdout",
     "output_type": "stream",
     "text": [
      "[0 1 2 3 5]\n"
     ]
    }
   ],
   "source": [
    "a=np.array([1,3,5])\n",
    "b=np.array([0,2,3])\n",
    "#union \n",
    "result=np.union1d(a,b)\n",
    "print(result)\n"
   ]
  },
  {
   "cell_type": "markdown",
   "id": "dd92d20d",
   "metadata": {},
   "source": [
    "# generating random value"
   ]
  },
  {
   "cell_type": "code",
   "execution_count": 58,
   "id": "9ba34c48",
   "metadata": {},
   "outputs": [
    {
     "name": "stdout",
     "output_type": "stream",
     "text": [
      "9\n"
     ]
    }
   ],
   "source": [
    "#generating random value\n",
    "random =np.random.randint(0,10)\n",
    "print(random)"
   ]
  },
  {
   "cell_type": "code",
   "execution_count": 59,
   "id": "eee0ba40",
   "metadata": {},
   "outputs": [
    {
     "name": "stdout",
     "output_type": "stream",
     "text": [
      "565\n"
     ]
    }
   ],
   "source": [
    "random =np.random.randint(100,1000)\n",
    "print(random)"
   ]
  },
  {
   "cell_type": "code",
   "execution_count": 60,
   "id": "11770804",
   "metadata": {},
   "outputs": [
    {
     "name": "stdout",
     "output_type": "stream",
     "text": [
      "[6 6 3 2 8]\n"
     ]
    }
   ],
   "source": [
    "#generating 1d array of 5 random integer between 0 and 9\n",
    "random =np.random.randint(0,10,5)\n",
    "print(random)"
   ]
  },
  {
   "cell_type": "code",
   "execution_count": 63,
   "id": "5d95906f",
   "metadata": {},
   "outputs": [
    {
     "name": "stdout",
     "output_type": "stream",
     "text": [
      "[[8 1 9 1]\n",
      " [2 0 2 4]\n",
      " [2 9 4 5]]\n"
     ]
    }
   ],
   "source": [
    "#gerating 2d array of shape (3,4) with random integer\n",
    "random =np.random.randint(0,10,(3,4))\n",
    "print(random)"
   ]
  },
  {
   "cell_type": "code",
   "execution_count": 64,
   "id": "80f5c71b",
   "metadata": {},
   "outputs": [
    {
     "name": "stdout",
     "output_type": "stream",
     "text": [
      "4\n"
     ]
    }
   ],
   "source": [
    "#create an array of integer from 1 to 5\n",
    "array1=np.array([1,2,3,4,5])\n",
    "#choose a random number from array1\n",
    "random =np.random.choice(array1)\n",
    "print(random)"
   ]
  },
  {
   "cell_type": "markdown",
   "id": "0f914b63",
   "metadata": {},
   "source": [
    "# numpy interpolation"
   ]
  },
  {
   "cell_type": "code",
   "execution_count": 66,
   "id": "e50037cf",
   "metadata": {},
   "outputs": [
    {
     "data": {
      "text/plain": [
       "array([ 7, 10,  8,  7,  8])"
      ]
     },
     "execution_count": 66,
     "metadata": {},
     "output_type": "execute_result"
    }
   ],
   "source": [
    "np.random.seed(10)\n",
    "np.random.binomial(10,0.80,size=5)"
   ]
  },
  {
   "cell_type": "code",
   "execution_count": 67,
   "id": "9e0feaa2",
   "metadata": {},
   "outputs": [
    {
     "name": "stdout",
     "output_type": "stream",
     "text": [
      "the value of gold on 6th day:\n",
      " 68.33333333333333\n"
     ]
    }
   ],
   "source": [
    "day=np.array([2,4,7])\n",
    "gold_price=np.array([55,65,70])\n",
    "\n",
    "#find the value of gold on 6th day or any day you required \n",
    "day_value=np.interp(6,day,gold_price)\n",
    "print('the value of gold on 6th day:\\n',day_value)"
   ]
  },
  {
   "cell_type": "code",
   "execution_count": 68,
   "id": "71f5a233",
   "metadata": {},
   "outputs": [
    {
     "name": "stdout",
     "output_type": "stream",
     "text": [
      "the value of gold on 7th day:\n",
      " 70.0\n"
     ]
    }
   ],
   "source": [
    "day=np.array([2,4,7])\n",
    "gold_price=np.array([55,65,70])\n",
    "\n",
    "#find the value of gold on 6th day or any day you required \n",
    "day_value=np.interp(7,day,gold_price)\n",
    "print('the value of gold on 7th day:\\n',day_value)"
   ]
  },
  {
   "cell_type": "code",
   "execution_count": 69,
   "id": "73b9bc9b",
   "metadata": {},
   "outputs": [
    {
     "name": "stdout",
     "output_type": "stream",
     "text": [
      "the value of gold on 8th day:\n",
      " 70.0\n"
     ]
    }
   ],
   "source": [
    "day=np.array([2,4,7])\n",
    "gold_price=np.array([55,65,70])\n",
    "\n",
    "#find the value of gold on 6th day or any day you required \n",
    "day_value=np.interp(8,day,gold_price)\n",
    "print('the value of gold on 8th day:\\n',day_value)"
   ]
  },
  {
   "cell_type": "code",
   "execution_count": 74,
   "id": "d9854edd",
   "metadata": {},
   "outputs": [
    {
     "name": "stdout",
     "output_type": "stream",
     "text": [
      "2023\n",
      "2023-04\n",
      "2023-04-29\n",
      "2023-04-29T10\n",
      "2023-04\n",
      "2023-04-29T10:30:09\n"
     ]
    }
   ],
   "source": [
    "# use datetime () for different time units \n",
    "year=np.datetime64('2023','Y')\n",
    "month=np.datetime64('2023-04','M')\n",
    "date=np.datetime64('2023-04-29','D')\n",
    "#day=np.datetime64('2023-04-29 wed','day')\n",
    "hour=np.datetime64('2023-04-29T10','h')\n",
    "minute=np.datetime64('2023-04-29T10:30','M')\n",
    "seconds=np.datetime64('2023-04-29T10:30:09','s')\n",
    "\n",
    "print(year)\n",
    "print(month)\n",
    "print(date)\n",
    "#print(day)\n",
    "print(hour)\n",
    "print(minute)\n",
    "print(seconds)"
   ]
  },
  {
   "cell_type": "code",
   "execution_count": 75,
   "id": "650a761c",
   "metadata": {},
   "outputs": [
    {
     "name": "stdout",
     "output_type": "stream",
     "text": [
      "2023-12-04\n",
      "2023-12-05\n",
      "30 days\n"
     ]
    }
   ],
   "source": [
    "#create a datetime object for today\n",
    "today=np.datetime64('today')\n",
    "#add one day to today date\n",
    "tomorrow =today+ np.timedelta64(1,'D')\n",
    "#create datetime object for two dates\n",
    "date1=np.datetime64('2023-05-01')\n",
    "date2=np.datetime64('2023-04-01')\n",
    "#calculate the number days between the two dates \n",
    "num=date1-date2\n",
    "#display \n",
    "print(today)\n",
    "print(tomorrow)\n",
    "print(num)"
   ]
  },
  {
   "cell_type": "markdown",
   "id": "0786b103",
   "metadata": {},
   "source": [
    "# numpy file I/O"
   ]
  },
  {
   "cell_type": "code",
   "execution_count": null,
   "id": "bfb8555c",
   "metadata": {},
   "outputs": [],
   "source": [
    "array1 = np.array([[2,4,6],[8,10,12]])\n",
    "\n",
    "#save the array to a file \n",
    "np.save(file1.npy)"
   ]
  }
 ],
 "metadata": {
  "kernelspec": {
   "display_name": "Python 3 (ipykernel)",
   "language": "python",
   "name": "python3"
  },
  "language_info": {
   "codemirror_mode": {
    "name": "ipython",
    "version": 3
   },
   "file_extension": ".py",
   "mimetype": "text/x-python",
   "name": "python",
   "nbconvert_exporter": "python",
   "pygments_lexer": "ipython3",
   "version": "3.11.5"
  }
 },
 "nbformat": 4,
 "nbformat_minor": 5
}
